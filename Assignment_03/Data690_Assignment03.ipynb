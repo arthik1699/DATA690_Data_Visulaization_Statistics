{
  "nbformat": 4,
  "nbformat_minor": 0,
  "metadata": {
    "colab": {
      "provenance": [],
      "authorship_tag": "ABX9TyP3xmh+jmmrvb1GV/zGMaIG",
      "include_colab_link": true
    },
    "kernelspec": {
      "name": "python3",
      "display_name": "Python 3"
    },
    "language_info": {
      "name": "python"
    }
  },
  "cells": [
    {
      "cell_type": "markdown",
      "metadata": {
        "id": "view-in-github",
        "colab_type": "text"
      },
      "source": [
        "<a href=\"https://colab.research.google.com/github/arthik1699/DATA690_Data_Visulaization_Statistics/blob/main/Assignment_03/Data690_Assignment03.ipynb\" target=\"_parent\"><img src=\"https://colab.research.google.com/assets/colab-badge.svg\" alt=\"Open In Colab\"/></a>"
      ]
    },
    {
      "cell_type": "markdown",
      "source": [
        "# Data690 - Assignment03\n",
        "* Date - 09/18/2022\n",
        "* Name - Arthi Komma\n",
        "* Campus Id : GF89659\n",
        "\n",
        "### Problem Statement\n",
        "\n",
        "### Write a program to generate 100 random integers between 0 and 9."
      ],
      "metadata": {
        "id": "zTWiJGs4FO1g"
      }
    },
    {
      "cell_type": "markdown",
      "source": [
        "1. To print them in a 10 by 10 matrix neatly arranged (one space between each number):"
      ],
      "metadata": {
        "id": "M4dxjVjKGAfi"
      }
    },
    {
      "cell_type": "code",
      "source": [
        "import random  #importing random library\n",
        "size = 10      #initializing the size of the matrix"
      ],
      "metadata": {
        "id": "GIZQvE02QPds"
      },
      "execution_count": 10,
      "outputs": []
    },
    {
      "cell_type": "code",
      "source": [
        "for i in range(size):             # i reprents the rows\n",
        "\n",
        "  for j in range(size):           # j represents the column in row\n",
        "    x = random.randint(0,9)       # generating the random integers\n",
        "    print(x, end=\" \")             # end = \" \" - gives a space after printing a number instead of moving to next line\n",
        "  print(\" \")"
      ],
      "metadata": {
        "colab": {
          "base_uri": "https://localhost:8080/"
        },
        "id": "yOPuSJCXQUBZ",
        "outputId": "4080e671-9a33-4551-fe2a-98afb65baacc"
      },
      "execution_count": 11,
      "outputs": [
        {
          "output_type": "stream",
          "name": "stdout",
          "text": [
            "5 6 6 2 3 7 1 0 1 4  \n",
            "3 3 2 0 5 5 0 5 0 0  \n",
            "2 9 3 3 4 0 1 1 4 6  \n",
            "0 7 1 5 1 7 6 5 1 0  \n",
            "5 9 0 4 3 0 9 9 4 8  \n",
            "1 6 1 8 2 9 9 1 7 6  \n",
            "6 9 2 2 0 0 1 3 8 1  \n",
            "0 0 9 0 2 1 6 6 0 4  \n",
            "0 3 5 1 7 9 1 0 8 6  \n",
            "9 8 6 9 8 4 2 6 6 7  \n"
          ]
        }
      ]
    },
    {
      "cell_type": "markdown",
      "source": [
        "2. To print the matrix and check if the random number is an odd number,if yes then print \"@\" instead:"
      ],
      "metadata": {
        "id": "LU9nr9DOIDdA"
      }
    },
    {
      "cell_type": "code",
      "source": [
        "for i in range(size):\n",
        "\n",
        "  for j in range(size):\n",
        "    x = random.randint(0,9)\n",
        "    if x%2 == 1 :              # checking whether the integer is an odd integer\n",
        "      print(\"@\",end=\" \")\n",
        "    else:\n",
        "      print(x,end=\" \")\n",
        "  print(\" \")\n",
        "    \n"
      ],
      "metadata": {
        "colab": {
          "base_uri": "https://localhost:8080/"
        },
        "id": "hmFLSBlGJTSi",
        "outputId": "d1896b25-aa25-46bf-fb28-6d5814dca89d"
      },
      "execution_count": 12,
      "outputs": [
        {
          "output_type": "stream",
          "name": "stdout",
          "text": [
            "@ 6 2 @ @ @ @ 4 @ @  \n",
            "0 @ 8 2 @ @ @ 2 4 @  \n",
            "4 2 6 @ @ 0 @ @ @ 0  \n",
            "8 2 @ @ 8 @ 6 @ @ @  \n",
            "@ @ @ 6 @ @ 0 @ @ @  \n",
            "@ 0 8 @ @ @ @ @ 4 @  \n",
            "@ 2 0 @ @ @ @ @ @ 8  \n",
            "0 0 8 6 4 @ 2 @ 8 @  \n",
            "@ @ @ @ @ 4 8 6 @ 8  \n",
            "@ @ 8 8 @ @ 0 2 @ 2  \n"
          ]
        }
      ]
    },
    {
      "cell_type": "markdown",
      "source": [
        "3. To calculate and print the total of each row (using \"*\" to separate the total from the numbers):"
      ],
      "metadata": {
        "id": "dC76_2LpKLDs"
      }
    },
    {
      "cell_type": "code",
      "source": [
        "for i in range(size):\n",
        "  sum = 0                       # initializing sum = 0 for every iteration of i\n",
        "  for j in range(size):\n",
        "    x = random.randint(0,9)\n",
        "    print(x,end=\" \")\n",
        "    sum = sum + x               # calculating the sum of the entire row\n",
        "  \n",
        "  print(\"*\",sum)                # printing the sum and seperaing it with '*'\n"
      ],
      "metadata": {
        "colab": {
          "base_uri": "https://localhost:8080/"
        },
        "id": "iTV17uaKRWrp",
        "outputId": "1afc68a3-667b-4306-98f8-e93e0a34d2fc"
      },
      "execution_count": 13,
      "outputs": [
        {
          "output_type": "stream",
          "name": "stdout",
          "text": [
            "9 6 1 9 2 8 2 7 4 2 * 50\n",
            "4 9 3 0 9 4 3 3 6 8 * 49\n",
            "6 6 6 9 6 5 5 1 3 0 * 47\n",
            "0 8 9 0 0 5 4 4 1 6 * 37\n",
            "0 0 9 9 9 8 4 5 8 5 * 57\n",
            "7 1 8 5 5 9 3 2 8 9 * 57\n",
            "6 8 2 4 6 4 0 4 6 5 * 45\n",
            "2 5 8 3 6 4 0 3 0 2 * 33\n",
            "8 1 2 2 0 4 4 6 8 3 * 38\n",
            "1 8 0 3 8 7 6 3 6 6 * 48\n"
          ]
        }
      ]
    },
    {
      "cell_type": "markdown",
      "source": [
        "4. To surround the matrix with asterisks (*):"
      ],
      "metadata": {
        "id": "J3yiwl6cZ1g3"
      }
    },
    {
      "cell_type": "code",
      "source": [
        "for j in range(23):                  #To print the *\n",
        "  print(\"*\", end = \"\")\n",
        "print()\n",
        "\n",
        "for i in range(size):\n",
        "  print(\"*\", end = \" \")\n",
        "  \n",
        "  for j in range(size):\n",
        "    x = random.randint(0,9)   #generating random integers\n",
        "    print(x,end=\" \")\n",
        "  print(\"*\")\n",
        "\n",
        "for j in range(23):\n",
        "  print(\"*\", end = \"\")        \n",
        "    \n",
        "  \n",
        "  "
      ],
      "metadata": {
        "colab": {
          "base_uri": "https://localhost:8080/"
        },
        "id": "HlIraTcDj7f-",
        "outputId": "ff5cbdd2-cbd0-4d21-c125-b25cd3a1ba36"
      },
      "execution_count": 14,
      "outputs": [
        {
          "output_type": "stream",
          "name": "stdout",
          "text": [
            "***********************\n",
            "* 7 0 9 6 8 9 2 7 8 8 *\n",
            "* 3 6 6 7 5 4 1 2 0 4 *\n",
            "* 3 3 6 3 2 7 0 4 9 7 *\n",
            "* 4 0 4 8 3 2 0 0 0 4 *\n",
            "* 5 5 1 4 5 4 7 4 7 6 *\n",
            "* 0 2 3 4 3 6 8 1 0 1 *\n",
            "* 0 4 5 6 8 2 5 1 1 6 *\n",
            "* 9 7 4 1 7 5 4 1 5 8 *\n",
            "* 0 8 1 2 5 0 9 2 9 3 *\n",
            "* 8 2 7 4 9 4 9 0 9 7 *\n",
            "***********************"
          ]
        }
      ]
    },
    {
      "cell_type": "markdown",
      "source": [
        "5. To calculate and print the total of each row and column and seperate the total with \"*\":"
      ],
      "metadata": {
        "id": "9E5L3EckbKEG"
      }
    },
    {
      "cell_type": "code",
      "source": [
        "size = 10\n",
        "matrix=[]                              #Forming a matrix\n",
        "for i in range(size):\n",
        "  a=[]\n",
        "  for j in range(size):\n",
        "    j=random.randint(0,9)\n",
        "    a.append(j)\n",
        "  matrix.append(a)                      #Appending an integer to the matrix\n",
        "\n",
        "row_sum=0                               #Initializing row sum = 0\n",
        "col_sum=0                               #Initializing colum sum = 0\n",
        "row=[]\n",
        "col=[]\n",
        "for i in range(size):\n",
        "\n",
        "  for j in range(size):\n",
        "    row_sum= row_sum+matrix[i][j]        #adding the row integers\n",
        "    col_sum= col_sum+matrix[j][i]        #adding the column integers\n",
        "  row.append(row_sum)\n",
        "  col.append(col_sum)\n",
        "  row_sum=0\n",
        "  col_sum=0\n",
        "\n",
        "for i in range(size):\n",
        "  \n",
        "  for j in range(size):\n",
        "    print(matrix[i][j],end=\"  \")          # printing the matrix\n",
        "  print(\"*\",row[i])                       #printing the sum of rows and separating it with a \"*\"\n",
        "  print()\n",
        "\n",
        "print(\"*  \" * 10,end=\"     \")\n",
        "print()\n",
        "\n",
        "for i in range(size):\n",
        "    print(col[i],end=\" \")                 #printing the sum of columns and seperating it with a '*'"
      ],
      "metadata": {
        "colab": {
          "base_uri": "https://localhost:8080/"
        },
        "id": "nLTdyzTlnu9z",
        "outputId": "3047d9c8-278d-47fc-f04e-0ce419a530b6"
      },
      "execution_count": 15,
      "outputs": [
        {
          "output_type": "stream",
          "name": "stdout",
          "text": [
            "6  3  9  0  6  8  6  6  3  7  * 54\n",
            "\n",
            "2  2  1  0  0  7  1  5  2  7  * 27\n",
            "\n",
            "3  7  3  7  1  7  8  9  6  4  * 55\n",
            "\n",
            "2  7  0  2  0  3  1  3  3  4  * 25\n",
            "\n",
            "8  5  2  1  9  7  0  5  8  8  * 53\n",
            "\n",
            "6  9  4  8  4  9  4  9  1  4  * 58\n",
            "\n",
            "6  7  1  1  2  1  8  9  7  9  * 51\n",
            "\n",
            "1  0  0  5  3  1  2  0  3  2  * 17\n",
            "\n",
            "0  8  5  0  2  3  2  1  1  6  * 28\n",
            "\n",
            "2  2  8  8  2  5  5  7  7  1  * 47\n",
            "\n",
            "*  *  *  *  *  *  *  *  *  *       \n",
            "36 50 33 32 29 51 37 54 41 52 "
          ]
        }
      ]
    },
    {
      "cell_type": "code",
      "source": [],
      "metadata": {
        "id": "-9Zp7JFtedQT"
      },
      "execution_count": null,
      "outputs": []
    }
  ]
}