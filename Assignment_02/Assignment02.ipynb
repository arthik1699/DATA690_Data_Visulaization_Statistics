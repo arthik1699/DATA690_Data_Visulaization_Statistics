{
  "nbformat": 4,
  "nbformat_minor": 0,
  "metadata": {
    "colab": {
      "provenance": [],
      "authorship_tag": "ABX9TyNCKp6TAS9L+unwny3b8brN",
      "include_colab_link": true
    },
    "kernelspec": {
      "name": "python3",
      "display_name": "Python 3"
    },
    "language_info": {
      "name": "python"
    }
  },
  "cells": [
    {
      "cell_type": "markdown",
      "metadata": {
        "id": "view-in-github",
        "colab_type": "text"
      },
      "source": [
        "<a href=\"https://colab.research.google.com/github/arthik1699/DATA690_Data_Visulaization_Statistics/blob/main/Assignment_02/Assignment02.ipynb\" target=\"_parent\"><img src=\"https://colab.research.google.com/assets/colab-badge.svg\" alt=\"Open In Colab\"/></a>"
      ]
    },
    {
      "cell_type": "code",
      "execution_count": 1,
      "metadata": {
        "colab": {
          "base_uri": "https://localhost:8080/"
        },
        "id": "4N78Q69102zE",
        "outputId": "6560daa0-76b0-4ea7-960c-00d2bd14b92d"
      },
      "outputs": [
        {
          "output_type": "stream",
          "name": "stdout",
          "text": [
            "Enter an integer : 1\n",
            "Enter an integer : 2\n",
            "Enter an integer : 3\n",
            "Enter an integer : 4\n",
            "Enter an integer : 5\n",
            "Enter an integer : 6\n",
            "Enter an integer : 7\n",
            "Enter an integer : 8\n",
            "Enter an integer : 9\n",
            "Enter an integer : 10\n",
            "The integers you have entered are : [1, 2, 3, 4, 5, 6, 7, 8, 9, 10]\n",
            "The minimum number in the list you created is :  1\n",
            "The maximum number in the list you created is :  10\n",
            "The range of the list is :  9\n",
            "Mean of the list:  5.5\n",
            "The variance of the list :  8.25\n",
            "The Standard Deviation of the list is :  2.8722813232690143\n"
          ]
        }
      ],
      "source": [
        "count = 0\n",
        "list1 = []\n",
        "while True:\n",
        "  if count == 10:\n",
        "    break\n",
        "\n",
        "  try:\n",
        "    x = int(input(\"Enter an integer : \"))\n",
        "    list1.append(x)\n",
        "    count = count + 1\n",
        "  except:\n",
        "      print(\"You need to enter an integer, Please try again\")\n",
        "\n",
        "print(\"The integers you have entered are :\", list1)\n",
        "\n",
        "#To find the minimum and maximum number in the list\n",
        "\n",
        "min = max = list1[0]\n",
        "for b in list1:\n",
        "    if b < min:\n",
        "        min = b\n",
        "    elif b > max:\n",
        "        max = b\n",
        "\n",
        "print(\"The minimum number in the list you created is : \", min)\n",
        "\n",
        "print(\"The maximum number in the list you created is : \", max)\n",
        "\n",
        "#To find the range of the list\n",
        "# Range = Maximum - Minimum\n",
        "\n",
        "range1 =  max - min\n",
        "print(\"The range of the list is : \", range1)     \n",
        "\n",
        "# To find the mean of the list\n",
        "# Mean = Summation of the integers in the list / Total number of integers\n",
        "\n",
        "summation = 0\n",
        "for c in list1:\n",
        "    summation = summation + c   \n",
        "\n",
        "mean = summation/count     \n",
        "\n",
        "print(\"Mean of the list: \", mean)\n",
        "\n",
        "#To find the variance of the list\n",
        "# Variance = Sum of sqaured differences from the mean\n",
        "\n",
        "total = 0\n",
        "for i in list1:\n",
        "  difference = (i - mean)**2   # Whole square formula - (number)**2\n",
        "  total = total + difference\n",
        "\n",
        "variance = total/count     \n",
        "print(\"The variance of the list : \", variance)\n",
        "\n",
        "#To find the standard deviation of the list\n",
        "# Standard Deviation - Square root of variance\n",
        "\n",
        "standard_deviation = variance**0.5    #  Sqaure root - (number)**0.5\n",
        "print(\"The Standard Deviation of the list is : \", standard_deviation)\n"
      ]
    }
  ]
}