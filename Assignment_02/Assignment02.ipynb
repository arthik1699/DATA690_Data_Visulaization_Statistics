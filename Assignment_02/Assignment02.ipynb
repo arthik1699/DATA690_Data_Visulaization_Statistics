{
  "nbformat": 4,
  "nbformat_minor": 0,
  "metadata": {
    "colab": {
      "provenance": [],
      "authorship_tag": "ABX9TyPWcg1YW/PmpYGQhF7tlC++",
      "include_colab_link": true
    },
    "kernelspec": {
      "name": "python3",
      "display_name": "Python 3"
    },
    "language_info": {
      "name": "python"
    }
  },
  "cells": [
    {
      "cell_type": "markdown",
      "metadata": {
        "id": "view-in-github",
        "colab_type": "text"
      },
      "source": [
        "<a href=\"https://colab.research.google.com/github/arthik1699/DATA690_Data_Visulaization_Statistics/blob/main/Assignment_02/Assignment02.ipynb\" target=\"_parent\"><img src=\"https://colab.research.google.com/assets/colab-badge.svg\" alt=\"Open In Colab\"/></a>"
      ]
    },
    {
      "cell_type": "markdown",
      "source": [
        "## Data690 - Data Visualization & Statistics\n",
        "\n",
        "### Assignment02\n",
        "\n",
        "* The assignment requires the user to enter any 10 integers only. If the user enters other than integers the code should give the user an another chance to give the input to enter the integers other than exiting. The previously entered input shoud be stored and the list should be displayed to the user. Following this the code should find\n",
        "  1. Minimum & Maximum numbers\n",
        "  2. Range\n",
        "  3. Mean\n",
        "  4. Variance\n",
        "  5. Standard Deviation"
      ],
      "metadata": {
        "id": "lqpoExwSms6h"
      }
    },
    {
      "cell_type": "code",
      "source": [
        "count = 0\n",
        "list1 = []\n",
        "while True:\n",
        "  if count == 10:\n",
        "    break\n",
        "\n",
        "  try:\n",
        "    x = int(input(\"Enter an integer : \"))\n",
        "    list1.append(x)\n",
        "    count = count + 1\n",
        "  except:\n",
        "      print(\"You need to enter an integer, Please try again\")\n",
        "\n",
        "print(\"The integers you have entered are :\", list1)"
      ],
      "metadata": {
        "colab": {
          "base_uri": "https://localhost:8080/"
        },
        "id": "yoDtBWFHok9-",
        "outputId": "564e68c0-37ce-42da-a163-ae07f067cd41"
      },
      "execution_count": 11,
      "outputs": [
        {
          "output_type": "stream",
          "name": "stdout",
          "text": [
            "Enter an integer : 500\n",
            "Enter an integer : 687\n",
            "Enter an integer : 456\n",
            "Enter an integer : 56\n",
            "Enter an integer : 77\n",
            "Enter an integer : 89\n",
            "Enter an integer : 40\n",
            "Enter an integer : 3\n",
            "Enter an integer : 98\n",
            "Enter an integer : 100\n",
            "The integers you have entered are : [500, 687, 456, 56, 77, 89, 40, 3, 98, 100]\n"
          ]
        }
      ]
    },
    {
      "cell_type": "markdown",
      "source": [
        "1. To find the Maximum & Minimum integers from the created list"
      ],
      "metadata": {
        "id": "j2Fqb8EQpKIa"
      }
    },
    {
      "cell_type": "code",
      "source": [
        "#To find the minimum and maximum number in the list\n",
        "\n",
        "min = max = list1[0]\n",
        "for b in list1:\n",
        "    if b < min:\n",
        "        min = b\n",
        "    elif b > max:\n",
        "        max = b\n",
        "\n",
        "print(\"The minimum number in the list you created is : \", min)\n",
        "\n",
        "print(\"The maximum number in the list you created is : \", max)"
      ],
      "metadata": {
        "colab": {
          "base_uri": "https://localhost:8080/"
        },
        "id": "Gc5pA7PLqZ3j",
        "outputId": "19dce7ef-a40f-4f8b-e6a4-a80a854cc1e8"
      },
      "execution_count": 12,
      "outputs": [
        {
          "output_type": "stream",
          "name": "stdout",
          "text": [
            "The minimum number in the list you created is :  3\n",
            "The maximum number in the list you created is :  687\n"
          ]
        }
      ]
    },
    {
      "cell_type": "markdown",
      "source": [
        "2. To find the Range of the created list.\n",
        "  * Range = Maximum number in the list - Minimum number in the list"
      ],
      "metadata": {
        "id": "HiVhbqi_q1lC"
      }
    },
    {
      "cell_type": "code",
      "source": [
        "#To find the range of the list\n",
        "# Range = Maximum - Minimum\n",
        "\n",
        "range1 =  max - min\n",
        "print(\"The range of the list is : \", range1)     "
      ],
      "metadata": {
        "colab": {
          "base_uri": "https://localhost:8080/"
        },
        "id": "1u8aAEJvrNcP",
        "outputId": "1236306a-108d-497f-e6cb-904923ea5dbc"
      },
      "execution_count": 13,
      "outputs": [
        {
          "output_type": "stream",
          "name": "stdout",
          "text": [
            "The range of the list is :  684\n"
          ]
        }
      ]
    },
    {
      "cell_type": "markdown",
      "source": [
        "3. To find the Mean of the created list\n",
        "   * Mean is defined as the  division of summation of integers by total number of integers.\n",
        "   * Mean = Summation of all the integers / Total number of integers"
      ],
      "metadata": {
        "id": "K-FljfDTraAG"
      }
    },
    {
      "cell_type": "code",
      "source": [
        "# To find the mean of the list\n",
        "# Mean = Summation of the integers in the list / Total number of integers\n",
        "\n",
        "summation = 0\n",
        "for c in list1:\n",
        "    summation = summation + c   \n",
        "\n",
        "mean = summation/count \n",
        "\n",
        "print(\"Mean of the list : \", mean)"
      ],
      "metadata": {
        "colab": {
          "base_uri": "https://localhost:8080/"
        },
        "id": "dG6gWllhsE0U",
        "outputId": "b855c2ce-c3c8-41df-ed68-3ee824d4a084"
      },
      "execution_count": 14,
      "outputs": [
        {
          "output_type": "stream",
          "name": "stdout",
          "text": [
            "Mean of the list :  210.6\n"
          ]
        }
      ]
    },
    {
      "cell_type": "markdown",
      "source": [
        "4. To find the Variance of the created list\n",
        "   * Variance is defined as the division of total of the sqaured differences from the Mean by total number of integers.\n",
        "   * Variance = Total of squared differences from Mean/Total number of integers."
      ],
      "metadata": {
        "id": "iQog-yGxskV_"
      }
    },
    {
      "cell_type": "code",
      "source": [
        "#To find the variance of the list\n",
        "# Variance = Sum of sqaured differences from the mean\n",
        "\n",
        "total = 0\n",
        "for i in list1:\n",
        "  difference = (i - mean)**2   # Whole square formula - (number)**2\n",
        "  total = total + difference\n",
        "\n",
        "variance = total/count     \n",
        "print(\"The variance of the list : \", variance)"
      ],
      "metadata": {
        "colab": {
          "base_uri": "https://localhost:8080/"
        },
        "id": "TWAE3osVtTtx",
        "outputId": "4e874abc-b852-41a4-dd78-e8022dc69a0c"
      },
      "execution_count": 15,
      "outputs": [
        {
          "output_type": "stream",
          "name": "stdout",
          "text": [
            "The variance of the list :  52458.04\n"
          ]
        }
      ]
    },
    {
      "cell_type": "markdown",
      "source": [
        "5. To find the Standard Deviation of the created list\n",
        "   * Standard Deviation is defined as the sqaure root of variance.\n",
        "   * Standard Deviation = Sqare root of Variance."
      ],
      "metadata": {
        "id": "Ny4DNCiyuVai"
      }
    },
    {
      "cell_type": "code",
      "source": [
        "#To find the standard deviation of the list\n",
        "# Standard Deviation - Square root of variance\n",
        "\n",
        "standard_deviation = variance**0.5    #  Sqaure root - (number)**0.5\n",
        "print(\"The Standard Deviation of the list is : \", standard_deviation)"
      ],
      "metadata": {
        "colab": {
          "base_uri": "https://localhost:8080/"
        },
        "id": "XuK0heNqu3Na",
        "outputId": "9e318a27-845c-4017-dffb-85ed6079fb78"
      },
      "execution_count": 16,
      "outputs": [
        {
          "output_type": "stream",
          "name": "stdout",
          "text": [
            "The Standard Deviation of the list is :  229.03720221832958\n"
          ]
        }
      ]
    }
  ]
}