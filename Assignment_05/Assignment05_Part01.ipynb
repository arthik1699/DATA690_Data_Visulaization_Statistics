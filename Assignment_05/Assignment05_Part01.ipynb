{
  "nbformat": 4,
  "nbformat_minor": 0,
  "metadata": {
    "colab": {
      "provenance": [],
      "collapsed_sections": [],
      "authorship_tag": "ABX9TyO1RPDtg+9rBCkK4FVgS2pK",
      "include_colab_link": true
    },
    "kernelspec": {
      "name": "python3",
      "display_name": "Python 3"
    },
    "language_info": {
      "name": "python"
    }
  },
  "cells": [
    {
      "cell_type": "markdown",
      "metadata": {
        "id": "view-in-github",
        "colab_type": "text"
      },
      "source": [
        "<a href=\"https://colab.research.google.com/github/arthik1699/DATA690_Data_Visulaization_Statistics/blob/main/Assignment_05/Assignment05_Part01.ipynb\" target=\"_parent\"><img src=\"https://colab.research.google.com/assets/colab-badge.svg\" alt=\"Open In Colab\"/></a>"
      ]
    },
    {
      "cell_type": "markdown",
      "source": [
        "# Data690 - Data Visualization & Statistics\n",
        "## Assignment- 5\n",
        "\n",
        "* Name - Arthi Komma\n",
        "* Campus id - GF89659"
      ],
      "metadata": {
        "id": "X4AS7OX1eNcT"
      }
    },
    {
      "cell_type": "markdown",
      "source": [
        "## Part 1  - Introduction\n",
        "###  What is Data Analysis"
      ],
      "metadata": {
        "id": "d4Op_P_LE4Wm"
      }
    },
    {
      "cell_type": "markdown",
      "source": [
        "A process of inspecting, cleansing, transforming and modeling data with a goal of discovering useful information, informing conclusiom and supporting decision-making."
      ],
      "metadata": {
        "id": "Hjk_q4ai4Ini"
      }
    },
    {
      "cell_type": "markdown",
      "source": [
        "**DATA ANALYSIS TOOLS:**\n",
        "\n",
        "Programming Languages are preferred more rather than auto maaged tools. And the main drawback is that we have to learn the programming language from basics and the learning process takes a lot of time by practising.\n",
        "\n",
        "- Auto-Managed Closed Tools: Qlik, Tableau, Looker, Zoho Analytics\n",
        "\n",
        "- Programming Languages/Open tools: Python, R, Julia"
      ],
      "metadata": {
        "id": "cemNDvSH4L97"
      }
    },
    {
      "cell_type": "markdown",
      "source": [
        "**Advantages/Disadvantages of Auto-Managed Closed Tools:**\n",
        "\n",
        "- Pros: Easy to handle things in more professional way\n",
        "\n",
        "- cons: Closed source, cost-effective, minimalized"
      ],
      "metadata": {
        "id": "Ea_SWoFF4MMW"
      }
    },
    {
      "cell_type": "markdown",
      "source": [
        "**Advantages/Disadvantages of Auto-Managed Closed Tools:**\n",
        "\n",
        "- Pros: Open source, free, extremely powerful\n",
        "\n",
        "- cons: Steep learning curve"
      ],
      "metadata": {
        "id": "QxPSa7Di4MPT"
      }
    },
    {
      "cell_type": "markdown",
      "source": [
        "**Why Python is used for Data Analysis?**\n",
        "\n",
        "- It is easy to understand and have powerful libraries.\n",
        "- free and open source.\n",
        "- very simple an intutive to learn\n",
        "- correct language\n",
        "- amazing community, docs and conferences.\n"
      ],
      "metadata": {
        "id": "YWqTNCP64MUc"
      }
    },
    {
      "cell_type": "markdown",
      "source": [
        "**When to choose R?**\n",
        "\n",
        "\n",
        "- It creates a framework that can translate Python objects into R objects, pass them into R functions, and convert R output back into Python objects.\n",
        "- One advantage of using R within Python is that we would able to use R's awesome packages like ggplot2, tidyr, dplyr et al. easily available in Python.\n",
        "\n"
      ],
      "metadata": {
        "id": "2t5pmFO45giC"
      }
    },
    {
      "cell_type": "markdown",
      "source": [
        "**The Data Analysis Process**\n",
        "\n",
        "- Data Extraction \n",
        "- Data Cleaning\n",
        "-Data Wrangling\n",
        "-Analysis\n",
        "-Action\n"
      ],
      "metadata": {
        "id": "BAFiAjqN5p3f"
      }
    },
    {
      "cell_type": "markdown",
      "source": [
        "**Python Libraries**\n",
        "- pandas: The cornerstone of our Data Analysis job with Python\n",
        "matplotlib: The foundational library for visualizations. Other libraries we’ll use will be built on top of matplotlib.\n",
        "\n",
        "- numpy: The numeric library that serves as the foundation of all calculations in Python.\n",
        "\n",
        "- seaborn: A statistical visualization tool built on top of matplotlib.\n",
        "\n",
        "- statsmodels: A library with many advanced statistical functions.\n",
        "- scipy: Advanced scientific computing, including functions for optimization, linear algebra, image processing and much more.\n",
        "\n",
        "- scikit-learn: The most popular machine learning library for Python (not deep learning)"
      ],
      "metadata": {
        "id": "inAQvPP06EKX"
      }
    }
  ]
}