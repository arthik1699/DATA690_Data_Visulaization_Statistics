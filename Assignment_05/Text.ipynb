{
  "nbformat": 4,
  "nbformat_minor": 0,
  "metadata": {
    "colab": {
      "provenance": [],
      "collapsed_sections": [],
      "authorship_tag": "ABX9TyOaxkcAP4DMULTZyezTBB2V",
      "include_colab_link": true
    },
    "kernelspec": {
      "name": "python3",
      "display_name": "Python 3"
    },
    "language_info": {
      "name": "python"
    }
  },
  "cells": [
    {
      "cell_type": "markdown",
      "metadata": {
        "id": "view-in-github",
        "colab_type": "text"
      },
      "source": [
        "<a href=\"https://colab.research.google.com/github/arthik1699/DATA690_Data_Visulaization_Statistics/blob/main/Assignment_05/Text.ipynb\" target=\"_parent\"><img src=\"https://colab.research.google.com/assets/colab-badge.svg\" alt=\"Open In Colab\"/></a>"
      ]
    },
    {
      "cell_type": "markdown",
      "source": [
        "1. what is data analysis\n",
        "2. real examples of data analysis with python\n",
        "3. how to use jupyter notebooks\n",
        "4. intro to numpy\n",
        "5. intro to pandas\n",
        "6. data cleaning\n",
        "7. reading data sql, csvs, api's\n",
        "8. python in under 10 minutes\n",
        "\n",
        "### what is data analysis \n",
        " a process of inspecting, cleansing, transforming and modeling data with a goal of discovering useful information, informing conclusiom and supporting decision-making.\n",
        " \n",
        "programming languages are rather preferred than auto-managed closed tools\n",
        "main draw back is that we have to know the learn tha basics first and the learning process takes a  lot of time by practising.\n",
        "\n",
        "### why python for data analysis\n",
        "1. very simple an intutive to learn\n",
        "2. correct language\n",
        "3. powerful libraries\n",
        "4. free and open source.\n",
        "5. amazing community, docs and conferences\n",
        "\n",
        "### when to choose R?\n",
        "1. when r studio is needed\n",
        "2. when dealing with advanced statistical methods\n",
        "3. when extreme performance is needed\n",
        "\n",
        "\n",
        "### the data analysis process\n",
        "1. data extraction - where the data is coming from\n",
        "2. data cleaning - \n",
        "3. data wrangling\n",
        "4. analysis - extracting patterns from data\n",
        "5. buildind models\n",
        "\n",
        "* data scientist - codes more\n",
        "* data analysist - analyses the data and communicates through it\n",
        "\n",
        "* libraries - numpy, pandas, matplotlib\n",
        "\n",
        "\n",
        "\n",
        " \n",
        "\n",
        "* numpy - fundamental for data analysis\n",
        "\n",
        "* pandas - it is the prime library used for data analysis"
      ],
      "metadata": {
        "id": "RIN-Z1g7M-Hq"
      }
    }
  ]
}